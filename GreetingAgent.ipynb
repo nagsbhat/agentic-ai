{
 "cells": [
  {
   "cell_type": "code",
   "execution_count": null,
   "id": "d77088bd-a231-49f2-895f-5e18e8166516",
   "metadata": {},
   "outputs": [],
   "source": [
    "!pip install langchain fastapi uvicorn pydantic transformers huggingface_hub"
   ]
  },
  {
   "cell_type": "code",
   "execution_count": null,
   "id": "de252feb-63a6-4449-a353-af103afeb5aa",
   "metadata": {},
   "outputs": [],
   "source": [
    "!pip install langchain-community\n"
   ]
  },
  {
   "cell_type": "code",
   "execution_count": 7,
   "id": "75e3e0e8-7459-43f6-ab65-0bcfe3ac992a",
   "metadata": {},
   "outputs": [
    {
     "name": "stdout",
     "output_type": "stream",
     "text": [
      "Requirement already satisfied: uvicorn in /Users/nagendrabhat/software/python/nse-hist/lib/python3.12/site-packages (0.34.2)\n",
      "Requirement already satisfied: click>=7.0 in /Users/nagendrabhat/software/python/nse-hist/lib/python3.12/site-packages (from uvicorn) (8.2.1)\n",
      "Requirement already satisfied: h11>=0.8 in /Users/nagendrabhat/software/python/nse-hist/lib/python3.12/site-packages (from uvicorn) (0.14.0)\n",
      "\n",
      "\u001b[1m[\u001b[0m\u001b[34;49mnotice\u001b[0m\u001b[1;39;49m]\u001b[0m\u001b[39;49m A new release of pip is available: \u001b[0m\u001b[31;49m25.1\u001b[0m\u001b[39;49m -> \u001b[0m\u001b[32;49m25.1.1\u001b[0m\n",
      "\u001b[1m[\u001b[0m\u001b[34;49mnotice\u001b[0m\u001b[1;39;49m]\u001b[0m\u001b[39;49m To update, run: \u001b[0m\u001b[32;49mpip install --upgrade pip\u001b[0m\n"
     ]
    }
   ],
   "source": [
    "!pip install uvicorn"
   ]
  },
  {
   "cell_type": "markdown",
   "id": "ee9ffdd3-46aa-42ea-a417-03355514d12f",
   "metadata": {},
   "source": [
    "# LangChain Agent with Gemma 2 (Small)"
   ]
  },
  {
   "cell_type": "code",
   "execution_count": null,
   "id": "ec34d80e-38e0-41db-962d-9c68d1e7db68",
   "metadata": {},
   "outputs": [],
   "source": [
    "# mood_agent_ollama.py\n",
    "\n",
    "from fastapi import FastAPI, Request\n",
    "from pydantic import BaseModel\n",
    "from langchain_community.llms import Ollama\n",
    "from langchain.prompts import PromptTemplate\n",
    "\n",
    "app = FastAPI()\n",
    "\n",
    "# LangChain Ollama LLM setup\n",
    "llm = Ollama(model=\"gemma:2b\")  # Ensure you've run: ollama pull gemma:2b\n",
    "\n",
    "# Prompt template for mood-boosting quote\n",
    "template = \"\"\"You are a compassionate AI that provides short, powerful, and uplifting quotes.\n",
    "Mood detected: {mood}\n",
    "\n",
    "Respond with one short quote that would uplift someone who is feeling this way.\n",
    "Quote:\"\"\"\n",
    "prompt = PromptTemplate.from_template(template)\n",
    "\n",
    "@app.post(\"/webhook\")\n",
    "async def receive_mood(request: Request):\n",
    "    data = await request.json()\n",
    "    mood = data.get(\"mood\", \"\").strip().lower()\n",
    "\n",
    "    if not mood:\n",
    "        return {\"error\": \"No mood provided\"}\n",
    "\n",
    "    final_prompt = prompt.format(mood=mood)\n",
    "    quote = llm(final_prompt).strip()\n",
    "\n",
    "    # Display quote on screen or terminal\n",
    "    print(f\"\\n🧠 Mood: {mood}\\n💬 Quote: {quote}\\n\")\n",
    "\n",
    "    return {\"quote\": quote}\n"
   ]
  },
  {
   "cell_type": "code",
   "execution_count": 8,
   "id": "b6c0731e-3143-40a3-8d0a-f00c05d3c70b",
   "metadata": {},
   "outputs": [
    {
     "name": "stdout",
     "output_type": "stream",
     "text": [
      "\u001b[31mERROR\u001b[0m:    Error loading ASGI app. Could not import module \"mood_agent\".\n"
     ]
    }
   ],
   "source": [
    "!uvicorn mood_agent:app --host 0.0.0.0 --port 8000"
   ]
  },
  {
   "cell_type": "code",
   "execution_count": null,
   "id": "4a29c918-c9d9-4bfb-b8b2-5a4fa4b6b467",
   "metadata": {},
   "outputs": [],
   "source": [
    "!curl -X POST http://localhost:8000/webhook \\\n",
    "     -H \"Content-Type: application/json\" \\\n",
    "     -d '{\"mood\": \"sad\"}'"
   ]
  },
  {
   "cell_type": "code",
   "execution_count": null,
   "id": "d8399c98-fef2-4858-8a2e-ee263afa799f",
   "metadata": {},
   "outputs": [],
   "source": []
  }
 ],
 "metadata": {
  "kernelspec": {
   "display_name": "Python 3 (ipykernel)",
   "language": "python",
   "name": "python3"
  },
  "language_info": {
   "codemirror_mode": {
    "name": "ipython",
    "version": 3
   },
   "file_extension": ".py",
   "mimetype": "text/x-python",
   "name": "python",
   "nbconvert_exporter": "python",
   "pygments_lexer": "ipython3",
   "version": "3.12.6"
  }
 },
 "nbformat": 4,
 "nbformat_minor": 5
}
